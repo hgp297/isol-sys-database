{
 "cells": [
  {
   "cell_type": "markdown",
   "metadata": {},
   "source": [
    "# Figures for Italy presentation"
   ]
  },
  {
   "cell_type": "code",
   "execution_count": null,
   "metadata": {},
   "outputs": [],
   "source": [
    "import sys\n",
    "# caution: path[0] is reserved for script path (or '' in REPL)\n",
    "sys.path.insert(1, '../')\n",
    "\n",
    "import pandas as pd\n",
    "import numpy as np\n",
    "import matplotlib.pyplot as plt\n",
    "import matplotlib as mpl\n",
    "from doe import GP\n",
    "\n",
    "plt.rcParams[\"text.usetex\"] = True\n",
    "plt.rcParams[\"font.family\"] = \"serif\"\n",
    "plt.rcParams[\"mathtext.fontset\"] = \"dejavuserif\"\n",
    "title_font=20\n",
    "axis_font = 18\n",
    "subt_font = 18\n",
    "label_size = 16\n",
    "mpl.rcParams['xtick.labelsize'] = label_size \n",
    "mpl.rcParams['ytick.labelsize'] = label_size \n",
    "\n",
    "import warnings\n",
    "warnings.filterwarnings(\"ignore\", category=DeprecationWarning) \n",
    "warnings.filterwarnings(\"ignore\", category=FutureWarning) \n",
    "pd.options.mode.chained_assignment = None  \n",
    "\n",
    "# <change these to your paths> \n",
    "path_to_loss_file = '../../data/loss/structural_db_complete_distributions.pickle'\n",
    "path_to_max_file = '../../data/loss/structural_db_complete_max_loss.pickle'\n",
    "\n",
    "# also change this to point to the directory with the brace database\n",
    "# (should be ../data/, I think)\n",
    "path_to_braceShapes = '../../resource/'"
   ]
  }
 ],
 "metadata": {
  "language_info": {
   "name": "python"
  }
 },
 "nbformat": 4,
 "nbformat_minor": 2
}
